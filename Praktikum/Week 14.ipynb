{
 "cells": [
  {
   "cell_type": "markdown",
   "metadata": {},
   "source": [
    "Week 14\n"
   ]
  },
  {
   "cell_type": "code",
   "execution_count": 1,
   "metadata": {},
   "outputs": [
    {
     "name": "stderr",
     "output_type": "stream",
     "text": [
      "24/12/22 09:13:56 WARN Utils: Your hostname, codespaces-13fb51 resolves to a loopback address: 127.0.0.1; using 10.0.2.104 instead (on interface eth0)\n",
      "24/12/22 09:13:56 WARN Utils: Set SPARK_LOCAL_IP if you need to bind to another address\n",
      "Setting default log level to \"WARN\".\n",
      "To adjust logging level use sc.setLogLevel(newLevel). For SparkR, use setLogLevel(newLevel).\n",
      "24/12/22 09:13:57 WARN NativeCodeLoader: Unable to load native-hadoop library for your platform... using builtin-java classes where applicable\n",
      "24/12/22 09:14:03 WARN Instrumentation: [67d954a8] regParam is zero, which might cause numerical instability and overfitting.\n",
      "24/12/22 09:14:05 WARN InstanceBuilder: Failed to load implementation from:dev.ludovic.netlib.blas.JNIBLAS\n",
      "24/12/22 09:14:05 WARN InstanceBuilder: Failed to load implementation from:dev.ludovic.netlib.blas.VectorBLAS\n",
      "24/12/22 09:14:05 WARN InstanceBuilder: Failed to load implementation from:dev.ludovic.netlib.lapack.JNILAPACK\n"
     ]
    },
    {
     "name": "stdout",
     "output_type": "stream",
     "text": [
      "Coefficients: [0.9999999999999992]\n",
      "Intercept: 15.000000000000009\n"
     ]
    },
    {
     "name": "stderr",
     "output_type": "stream",
     "text": [
      "24/12/22 09:14:08 WARN GarbageCollectionMetrics: To enable non-built-in garbage collector(s) List(G1 Concurrent GC), users should configure it(them) to spark.eventLog.gcMetrics.youngGenerationGarbageCollectors or spark.eventLog.gcMetrics.oldGenerationGarbageCollectors\n"
     ]
    }
   ],
   "source": [
    "# Example: Linear Regression with Spark MLlib\n",
    "from pyspark.sql import SparkSession\n",
    "from pyspark.ml.regression import LinearRegression\n",
    "from pyspark.ml.feature import VectorAssembler\n",
    "\n",
    "# Initialize Spark Session\n",
    "spark = SparkSession.builder.appName('MLlib Example').getOrCreate()\n",
    "\n",
    "# Load sample data\n",
    "data = [(1, 5.0, 20.0), (2, 10.0, 25.0), (3, 15.0, 30.0), (4, 20.0, 35.0)]\n",
    "columns = ['ID', 'Feature', 'Target']\n",
    "df = spark.createDataFrame(data, columns)\n",
    "\n",
    "# Prepare data for modeling\n",
    "assembler = VectorAssembler(inputCols=['Feature'], outputCol='Features')\n",
    "df_transformed = assembler.transform(df)\n",
    "\n",
    "# Train a linear regression model\n",
    "lr = LinearRegression(featuresCol='Features', labelCol='Target')\n",
    "model = lr.fit(df_transformed)\n",
    "\n",
    "# Print model coefficients\n",
    "print(f'Coefficients: {model.coefficients}')\n",
    "print(f'Intercept: {model.intercept}')"
   ]
  },
  {
   "cell_type": "markdown",
   "metadata": {},
   "source": [
    "Linear Regression"
   ]
  },
  {
   "cell_type": "code",
   "execution_count": 4,
   "metadata": {},
   "outputs": [
    {
     "name": "stdout",
     "output_type": "stream",
     "text": [
      "Coefficients: [-0.25656420289219967,-1.3097244239447348]\n",
      "Intercept: 6.334558002662652\n"
     ]
    }
   ],
   "source": [
    "# Practice: Logistic Regression\n",
    "from pyspark.ml.classification import LogisticRegression\n",
    "\n",
    "# Example dataset\n",
    "data = [(1, 2.0, 4.0, 0), (2, 1.0, 3.5, 1), (3, 2.5, 4.5, 1), (4, 3.0, 6.0, 0)]\n",
    "columns = ['ID', 'Feature1', 'Feature2', 'Label']\n",
    "df = spark.createDataFrame(data, columns)\n",
    "\n",
    "# Use VectorAssembler to change features columns to a vector\n",
    "assembler = VectorAssembler(inputCols=['Feature1', 'Feature2'], outputCol='Features')\n",
    "\n",
    "# Transform the data\n",
    "df = assembler.transform(df)\n",
    "\n",
    "# Train logistic regression model\n",
    "lr = LogisticRegression(featuresCol='Features', labelCol='Label')\n",
    "model = lr.fit(df)\n",
    "\n",
    "# Display coefficients and summary\n",
    "print(f'Coefficients: {model.coefficients}')\n",
    "print(f'Intercept: {model.intercept}')"
   ]
  },
  {
   "cell_type": "markdown",
   "metadata": {},
   "source": [
    "KMeans Clustering"
   ]
  },
  {
   "cell_type": "code",
   "execution_count": 7,
   "metadata": {},
   "outputs": [
    {
     "name": "stdout",
     "output_type": "stream",
     "text": [
      "Cluster Centers: [array([12.5, 12.5]), array([6.25, 6.25])]\n"
     ]
    }
   ],
   "source": [
    "# Practice: KMeans Clustering\n",
    "from pyspark.ml.clustering import KMeans\n",
    "from pyspark.ml.linalg import Vectors\n",
    "\n",
    "# Example dataset\n",
    "data = [(1, Vectors.dense([5.0, 5.0])), (2, Vectors.dense([7.5, 7.5])), (3, Vectors.dense([10.0, 10.0])), (4, Vectors.dense([15.0, 15.0]))]\n",
    "columns = ['ID', 'Features']\n",
    "df = spark.createDataFrame(data, columns)\n",
    "\n",
    "# Train KMeans clustering model\n",
    "kmeans = KMeans(featuresCol='Features', k=2)\n",
    "model = kmeans.fit(df)\n",
    "\n",
    "# Show cluster centers\n",
    "centers = model.clusterCenters()\n",
    "print(f'Cluster Centers: {centers}')"
   ]
  },
  {
   "cell_type": "markdown",
   "metadata": {},
   "source": [
    "**Homework**"
   ]
  },
  {
   "cell_type": "markdown",
   "metadata": {},
   "source": [
    "Load Dataset"
   ]
  },
  {
   "cell_type": "code",
   "execution_count": 9,
   "metadata": {},
   "outputs": [
    {
     "name": "stdout",
     "output_type": "stream",
     "text": [
      "+----------+------+------+------+------+------+-------+\n",
      "|      Date|  Open|  High|   Low| Close|Volume|OpenInt|\n",
      "+----------+------+------+------+------+------+-------+\n",
      "|2012-06-05|23.913|24.101|23.913|24.101|  1364|      0|\n",
      "|2012-06-06|24.586|24.606|24.438|24.556|  1561|      0|\n",
      "|2012-06-07|25.388|25.388|24.705|24.725|  3234|      0|\n",
      "|2012-06-08|24.695|24.843|24.695|24.804|   808|      0|\n",
      "|2012-06-11|25.289|25.289|24.467|24.467|  3921|      0|\n",
      "+----------+------+------+------+------+------+-------+\n",
      "only showing top 5 rows\n",
      "\n"
     ]
    }
   ],
   "source": [
    "from pyspark.sql import SparkSession\n",
    "from pyspark.sql.types import StructType, StructField, StringType, FloatType\n",
    "\n",
    "# Inisialisasi Spark Session\n",
    "spark = SparkSession.builder.appName(\"Stock_Classification\").getOrCreate()\n",
    "\n",
    "# Muat file TXT (ganti path sesuai lokasi file)\n",
    "data = spark.read.option(\"delimiter\", \",\").csv(\"/workspaces/Big-Data/Dataset/alfa-us.txt\", header=True, inferSchema=True)\n",
    "\n",
    "# Periksa data yang dimuat\n",
    "data.show(5)"
   ]
  },
  {
   "cell_type": "markdown",
   "metadata": {},
   "source": [
    "Transformasi Data dan Vektorisasi Fitur"
   ]
  },
  {
   "cell_type": "code",
   "execution_count": 10,
   "metadata": {},
   "outputs": [
    {
     "name": "stdout",
     "output_type": "stream",
     "text": [
      "+--------------------+-----+\n",
      "|            features|Label|\n",
      "+--------------------+-----+\n",
      "|[23.913,24.101,23...|    1|\n",
      "|[24.586,24.606,24...|    1|\n",
      "|[25.388,25.388,24...|    1|\n",
      "|[24.695,24.843,24...|    1|\n",
      "|[25.289,25.289,24...|    1|\n",
      "+--------------------+-----+\n",
      "only showing top 5 rows\n",
      "\n"
     ]
    }
   ],
   "source": [
    "from pyspark.ml.feature import VectorAssembler\n",
    "\n",
    "from pyspark.sql.functions import lit\n",
    "\n",
    "# Add a dummy Label column for demonstration\n",
    "data = data.withColumn(\"Label\", lit(1))\n",
    "\n",
    "# Definisikan fitur yang akan digunakan dalam model\n",
    "feature_columns = [\"Open\", \"High\", \"Low\", \"Volume\"]\n",
    "assembler = VectorAssembler(inputCols=feature_columns, outputCol=\"features\")\n",
    "\n",
    "# Transformasikan data ke dalam format fitur vektor\n",
    "assembled_data = assembler.transform(data).select(\"features\", \"Label\")\n",
    "\n",
    "# Periksa hasil transformasi\n",
    "assembled_data.show(5)"
   ]
  },
  {
   "cell_type": "markdown",
   "metadata": {},
   "source": [
    "Bagi Data ke Dalam Set Pelatihan dan Pengujian"
   ]
  },
  {
   "cell_type": "code",
   "execution_count": 11,
   "metadata": {},
   "outputs": [],
   "source": [
    "# Bagi data menjadi 80% pelatihan dan 20% pengujian\n",
    "train_data, test_data = assembled_data.randomSplit([0.8, 0.2], seed=42)"
   ]
  },
  {
   "cell_type": "markdown",
   "metadata": {},
   "source": [
    "Bangun Model Klasifikasi Menggunakan Logistic Regression"
   ]
  },
  {
   "cell_type": "code",
   "execution_count": 12,
   "metadata": {},
   "outputs": [
    {
     "name": "stderr",
     "output_type": "stream",
     "text": [
      "24/12/22 09:29:10 WARN Instrumentation: [ecc0ee15] All labels are the same value and fitIntercept=true, so the coefficients will be zeros. Training is not needed.\n"
     ]
    },
    {
     "name": "stdout",
     "output_type": "stream",
     "text": [
      "+-----+----------+\n",
      "|Label|prediction|\n",
      "+-----+----------+\n",
      "|    1|       1.0|\n",
      "|    1|       1.0|\n",
      "|    1|       1.0|\n",
      "|    1|       1.0|\n",
      "|    1|       1.0|\n",
      "+-----+----------+\n",
      "only showing top 5 rows\n",
      "\n"
     ]
    }
   ],
   "source": [
    "from pyspark.ml.classification import LogisticRegression\n",
    "\n",
    "# Inisialisasi model Logistic Regression\n",
    "lr = LogisticRegression(labelCol=\"Label\", featuresCol=\"features\")\n",
    "\n",
    "# Latih model dengan data pelatihan\n",
    "lr_model = lr.fit(train_data)\n",
    "\n",
    "# Lakukan prediksi pada data pengujian\n",
    "predictions = lr_model.transform(test_data)\n",
    "\n",
    "# Tampilkan beberapa hasil prediksi\n",
    "predictions.select(\"Label\", \"prediction\").show(5)"
   ]
  },
  {
   "cell_type": "markdown",
   "metadata": {},
   "source": [
    "Evaluasi Kinerja Model"
   ]
  },
  {
   "cell_type": "code",
   "execution_count": 13,
   "metadata": {},
   "outputs": [
    {
     "name": "stdout",
     "output_type": "stream",
     "text": [
      "Test AUC: 1.0\n"
     ]
    }
   ],
   "source": [
    "from pyspark.ml.evaluation import BinaryClassificationEvaluator\n",
    "\n",
    "# Inisialisasi evaluator dengan metrik AUC (Area Under ROC)\n",
    "evaluator = BinaryClassificationEvaluator(labelCol=\"Label\", metricName=\"areaUnderROC\")\n",
    "\n",
    "# Hitung dan tampilkan nilai AUC\n",
    "auc = evaluator.evaluate(predictions)\n",
    "print(f\"Test AUC: {auc}\")"
   ]
  },
  {
   "cell_type": "markdown",
   "metadata": {},
   "source": [
    "Penyetelan Hiperparameter Menggunakan Validasi Silang"
   ]
  },
  {
   "cell_type": "code",
   "execution_count": 14,
   "metadata": {},
   "outputs": [
    {
     "name": "stderr",
     "output_type": "stream",
     "text": [
      "24/12/22 09:30:08 WARN Instrumentation: [3c61e666] All labels are the same value and fitIntercept=true, so the coefficients will be zeros. Training is not needed.\n",
      "24/12/22 09:30:09 WARN Instrumentation: [79f3a5f7] All labels are the same value and fitIntercept=true, so the coefficients will be zeros. Training is not needed.\n",
      "24/12/22 09:30:10 WARN Instrumentation: [d2d0abc7] All labels are the same value and fitIntercept=true, so the coefficients will be zeros. Training is not needed.\n",
      "24/12/22 09:30:10 WARN Instrumentation: [8701d8b8] All labels are the same value and fitIntercept=true, so the coefficients will be zeros. Training is not needed.\n",
      "24/12/22 09:30:11 WARN Instrumentation: [5955637a] All labels are the same value and fitIntercept=true, so the coefficients will be zeros. Training is not needed.\n",
      "24/12/22 09:30:11 WARN Instrumentation: [3f9c38c9] All labels are the same value and fitIntercept=true, so the coefficients will be zeros. Training is not needed.\n",
      "24/12/22 09:30:11 WARN Instrumentation: [a66e7bf0] All labels are the same value and fitIntercept=true, so the coefficients will be zeros. Training is not needed.\n",
      "24/12/22 09:30:12 WARN Instrumentation: [0f65d79f] All labels are the same value and fitIntercept=true, so the coefficients will be zeros. Training is not needed.\n",
      "24/12/22 09:30:12 WARN Instrumentation: [7d49069a] All labels are the same value and fitIntercept=true, so the coefficients will be zeros. Training is not needed.\n",
      "24/12/22 09:30:13 WARN Instrumentation: [98b66764] All labels are the same value and fitIntercept=true, so the coefficients will be zeros. Training is not needed.\n",
      "24/12/22 09:30:13 WARN Instrumentation: [a69ca643] All labels are the same value and fitIntercept=true, so the coefficients will be zeros. Training is not needed.\n",
      "24/12/22 09:30:14 WARN Instrumentation: [aa3ea1d1] All labels are the same value and fitIntercept=true, so the coefficients will be zeros. Training is not needed.\n",
      "24/12/22 09:30:14 WARN Instrumentation: [f4100683] All labels are the same value and fitIntercept=true, so the coefficients will be zeros. Training is not needed.\n",
      "24/12/22 09:30:15 WARN Instrumentation: [52c3a3e4] All labels are the same value and fitIntercept=true, so the coefficients will be zeros. Training is not needed.\n",
      "24/12/22 09:30:15 WARN Instrumentation: [38bc99c1] All labels are the same value and fitIntercept=true, so the coefficients will be zeros. Training is not needed.\n",
      "24/12/22 09:30:15 WARN Instrumentation: [1222aba5] All labels are the same value and fitIntercept=true, so the coefficients will be zeros. Training is not needed.\n",
      "24/12/22 09:30:16 WARN Instrumentation: [07193fa4] All labels are the same value and fitIntercept=true, so the coefficients will be zeros. Training is not needed.\n",
      "24/12/22 09:30:16 WARN Instrumentation: [77920c69] All labels are the same value and fitIntercept=true, so the coefficients will be zeros. Training is not needed.\n",
      "24/12/22 09:30:17 WARN Instrumentation: [57089e4c] All labels are the same value and fitIntercept=true, so the coefficients will be zeros. Training is not needed.\n",
      "24/12/22 09:30:17 WARN Instrumentation: [b709c2d2] All labels are the same value and fitIntercept=true, so the coefficients will be zeros. Training is not needed.\n",
      "24/12/22 09:30:18 WARN Instrumentation: [f297f12d] All labels are the same value and fitIntercept=true, so the coefficients will be zeros. Training is not needed.\n",
      "24/12/22 09:30:18 WARN Instrumentation: [b834df78] All labels are the same value and fitIntercept=true, so the coefficients will be zeros. Training is not needed.\n",
      "24/12/22 09:30:18 WARN Instrumentation: [836b028b] All labels are the same value and fitIntercept=true, so the coefficients will be zeros. Training is not needed.\n",
      "24/12/22 09:30:19 WARN Instrumentation: [fbb8e5b6] All labels are the same value and fitIntercept=true, so the coefficients will be zeros. Training is not needed.\n",
      "24/12/22 09:30:19 WARN Instrumentation: [57bcf19f] All labels are the same value and fitIntercept=true, so the coefficients will be zeros. Training is not needed.\n",
      "24/12/22 09:30:19 WARN Instrumentation: [eaa93a93] All labels are the same value and fitIntercept=true, so the coefficients will be zeros. Training is not needed.\n",
      "24/12/22 09:30:20 WARN Instrumentation: [1a6ccdf0] All labels are the same value and fitIntercept=true, so the coefficients will be zeros. Training is not needed.\n",
      "24/12/22 09:30:20 WARN Instrumentation: [54dbe24f] All labels are the same value and fitIntercept=true, so the coefficients will be zeros. Training is not needed.\n",
      "24/12/22 09:30:21 WARN Instrumentation: [2fd0711e] All labels are the same value and fitIntercept=true, so the coefficients will be zeros. Training is not needed.\n",
      "24/12/22 09:30:21 WARN Instrumentation: [20955e3f] All labels are the same value and fitIntercept=true, so the coefficients will be zeros. Training is not needed.\n",
      "24/12/22 09:30:21 WARN Instrumentation: [96de3741] All labels are the same value and fitIntercept=true, so the coefficients will be zeros. Training is not needed.\n",
      "24/12/22 09:30:22 WARN Instrumentation: [264964cf] All labels are the same value and fitIntercept=true, so the coefficients will be zeros. Training is not needed.\n",
      "24/12/22 09:30:22 WARN Instrumentation: [033f0b22] All labels are the same value and fitIntercept=true, so the coefficients will be zeros. Training is not needed.\n",
      "24/12/22 09:30:22 WARN Instrumentation: [6a6837ab] All labels are the same value and fitIntercept=true, so the coefficients will be zeros. Training is not needed.\n",
      "24/12/22 09:30:23 WARN Instrumentation: [4301e865] All labels are the same value and fitIntercept=true, so the coefficients will be zeros. Training is not needed.\n",
      "24/12/22 09:30:23 WARN Instrumentation: [539ce8d3] All labels are the same value and fitIntercept=true, so the coefficients will be zeros. Training is not needed.\n",
      "24/12/22 09:30:23 WARN Instrumentation: [bfc7e7e1] All labels are the same value and fitIntercept=true, so the coefficients will be zeros. Training is not needed.\n",
      "24/12/22 09:30:24 WARN Instrumentation: [69ff9e2d] All labels are the same value and fitIntercept=true, so the coefficients will be zeros. Training is not needed.\n",
      "24/12/22 09:30:24 WARN Instrumentation: [3e005504] All labels are the same value and fitIntercept=true, so the coefficients will be zeros. Training is not needed.\n",
      "24/12/22 09:30:25 WARN Instrumentation: [e9851338] All labels are the same value and fitIntercept=true, so the coefficients will be zeros. Training is not needed.\n",
      "24/12/22 09:30:25 WARN Instrumentation: [c490827a] All labels are the same value and fitIntercept=true, so the coefficients will be zeros. Training is not needed.\n",
      "24/12/22 09:30:25 WARN Instrumentation: [8900e1e4] All labels are the same value and fitIntercept=true, so the coefficients will be zeros. Training is not needed.\n",
      "24/12/22 09:30:25 WARN Instrumentation: [79c4fd36] All labels are the same value and fitIntercept=true, so the coefficients will be zeros. Training is not needed.\n",
      "24/12/22 09:30:26 WARN Instrumentation: [6ca824cc] All labels are the same value and fitIntercept=true, so the coefficients will be zeros. Training is not needed.\n",
      "24/12/22 09:30:26 WARN Instrumentation: [b6fda344] All labels are the same value and fitIntercept=true, so the coefficients will be zeros. Training is not needed.\n",
      "24/12/22 09:30:26 WARN Instrumentation: [6c77907c] All labels are the same value and fitIntercept=true, so the coefficients will be zeros. Training is not needed.\n"
     ]
    },
    {
     "name": "stdout",
     "output_type": "stream",
     "text": [
      "Best Model Test AUC: 1.0\n"
     ]
    }
   ],
   "source": [
    "from pyspark.ml.tuning import ParamGridBuilder, CrossValidator\n",
    "\n",
    "# Buat grid parameter untuk diuji\n",
    "param_grid = (ParamGridBuilder()\n",
    "              .addGrid(lr.regParam, [0.01, 0.1, 0.5])       # Parameter regularisasi\n",
    "              .addGrid(lr.elasticNetParam, [0.0, 0.5, 1.0]) # Parameter elastic net\n",
    "              .build())\n",
    "\n",
    "# Buat CrossValidator dengan 5 fold\n",
    "cross_val = CrossValidator(estimator=lr,\n",
    "                           estimatorParamMaps=param_grid,\n",
    "                           evaluator=evaluator,\n",
    "                           numFolds=5)\n",
    "\n",
    "# Latih model dengan validasi silang\n",
    "cv_model = cross_val.fit(train_data)\n",
    "\n",
    "# Dapatkan model terbaik dari validasi silang\n",
    "best_model = cv_model.bestModel\n",
    "\n",
    "# Evaluasi model terbaik pada data pengujian\n",
    "best_predictions = best_model.transform(test_data)\n",
    "best_auc = evaluator.evaluate(best_predictions)\n",
    "print(f\"Best Model Test AUC: {best_auc}\")"
   ]
  }
 ],
 "metadata": {
  "kernelspec": {
   "display_name": "Python 3",
   "language": "python",
   "name": "python3"
  },
  "language_info": {
   "codemirror_mode": {
    "name": "ipython",
    "version": 3
   },
   "file_extension": ".py",
   "mimetype": "text/x-python",
   "name": "python",
   "nbconvert_exporter": "python",
   "pygments_lexer": "ipython3",
   "version": "3.12.1"
  }
 },
 "nbformat": 4,
 "nbformat_minor": 2
}
