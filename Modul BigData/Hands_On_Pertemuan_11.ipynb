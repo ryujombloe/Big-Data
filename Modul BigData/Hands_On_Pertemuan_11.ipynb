{
 "cells": [
  {
   "cell_type": "markdown",
   "id": "32f8193f",
   "metadata": {},
   "source": [
    "# Hands-On Pertemuan 11: Advanced MongoDB Operations and Data Query"
   ]
  },
  {
   "cell_type": "markdown",
   "id": "63c97234",
   "metadata": {},
   "source": [
    "## Objectives:\n",
    "- Dive into advanced query operations and aggregation pipelines in MongoDB.\n",
    "- Enhance skills in filtering, grouping, and analyzing data with MongoDB.\n",
    "- Master complex MongoDB operations for real-world data scenarios.\n"
   ]
  },
  {
   "cell_type": "markdown",
   "id": "dc3e7a37",
   "metadata": {},
   "source": [
    "### 1. Advanced CRUD Operations\n",
    "- **Exercise 1**: Use `bulk_write` to insert, update, and delete multiple documents simultaneously.\n",
    "- **Task 1**: Insert a dataset of `courses` where each course has multiple student enrollments, then display the data.\n"
   ]
  },
  {
   "cell_type": "code",
   "execution_count": null,
   "id": "58749e3d",
   "metadata": {},
   "outputs": [],
   "source": [
    "from pymongo import MongoClient, InsertOne, UpdateOne, DeleteOne\n",
    "\n",
    "# Establish client connection\n",
    "client = MongoClient('mongodb://localhost:27017/')\n",
    "db = client['university_db']\n",
    "courses_collection = db['courses']\n",
    "\n",
    "# Bulk insert of courses with student enrollments\n",
    "operations = [\n",
    "    InsertOne({'course': 'Math 101', 'enrollments': 30, 'department': 'Mathematics'}),\n",
    "    InsertOne({'course': 'CS 102', 'enrollments': 25, 'department': 'Computer Science'}),\n",
    "    InsertOne({'course': 'History 201', 'enrollments': 20, 'department': 'History'}),\n",
    "    InsertOne({'course': 'Physics 202', 'enrollments': 15, 'department': 'Physics'})\n",
    "]\n",
    "courses_collection.bulk_write(operations)\n",
    "print('Courses inserted successfully.')\n"
   ]
  },
  {
   "cell_type": "markdown",
   "id": "ea28ba03",
   "metadata": {},
   "source": [
    "### 2. Complex Filtering and Querying\n",
    "- **Exercise 2**: Filter courses with enrollments over 20 students.\n",
    "- **Task 2**: Retrieve and display courses only from the 'Computer Science' or 'Mathematics' departments.\n"
   ]
  },
  {
   "cell_type": "code",
   "execution_count": null,
   "id": "8cacd4b7",
   "metadata": {},
   "outputs": [],
   "source": [
    "# Query for courses with enrollments greater than 20\n",
    "for course in courses_collection.find({'enrollments': {'$gt': 20}}):\n",
    "    print(course)\n"
   ]
  },
  {
   "cell_type": "code",
   "execution_count": null,
   "id": "27fd2372",
   "metadata": {},
   "outputs": [],
   "source": [
    "# Query courses in Computer Science or Mathematics departments\n",
    "for course in courses_collection.find({'department': {'$in': ['Computer Science', 'Mathematics']}}):\n",
    "    print(course)\n"
   ]
  },
  {
   "cell_type": "markdown",
   "id": "5bd373c1",
   "metadata": {},
   "source": [
    "### 3. Aggregation Framework for Data Analysis\n",
    "- **Exercise 3**: Use aggregation to find the average enrollment per department.\n",
    "- **Task 3**: Create an aggregation pipeline that finds the maximum enrollment for each department.\n"
   ]
  },
  {
   "cell_type": "code",
   "execution_count": null,
   "id": "97561541",
   "metadata": {},
   "outputs": [],
   "source": [
    "# Average enrollment per department using aggregation\n",
    "pipeline = [\n",
    "    {'$group': {'_id': '$department', 'average_enrollment': {'$avg': '$enrollments'}}}\n",
    "]\n",
    "for result in courses_collection.aggregate(pipeline):\n",
    "    print(result)\n"
   ]
  },
  {
   "cell_type": "code",
   "execution_count": null,
   "id": "3ba91f68",
   "metadata": {},
   "outputs": [],
   "source": [
    "# Maximum enrollment per department\n",
    "pipeline = [\n",
    "    {'$group': {'_id': '$department', 'max_enrollment': {'$max': '$enrollments'}}}\n",
    "]\n",
    "for result in courses_collection.aggregate(pipeline):\n",
    "    print(result)\n"
   ]
  },
  {
   "cell_type": "markdown",
   "id": "2230ad7e",
   "metadata": {},
   "source": [
    "### 4. Data Transformation using $project and $addFields\n",
    "- **Exercise 4**: Use `$project` to rename and only show fields: `course_name`, `department_name`, and `enrollments`.\n",
    "- **Task 4**: Use `$addFields` to create a new field `enrollment_category` where enrollments > 20 are 'high' and others 'low'.\n"
   ]
  },
  {
   "cell_type": "code",
   "execution_count": null,
   "id": "53034be1",
   "metadata": {},
   "outputs": [],
   "source": [
    "# Projection to rename fields\n",
    "pipeline = [\n",
    "    {'$project': {'course_name': '$course', 'department_name': '$department', 'enrollments': 1}}\n",
    "]\n",
    "for result in courses_collection.aggregate(pipeline):\n",
    "    print(result)\n"
   ]
  },
  {
   "cell_type": "code",
   "execution_count": null,
   "id": "e846e40d",
   "metadata": {},
   "outputs": [],
   "source": [
    "# Adding enrollment category field based on enrollments\n",
    "pipeline = [\n",
    "    {'$addFields': {'enrollment_category': {'$cond': {'if': {'$gt': ['$enrollments', 20]}, 'then': 'high', 'else': 'low'}}}}\n",
    "]\n",
    "for result in courses_collection.aggregate(pipeline):\n",
    "    print(result)\n"
   ]
  },
  {
   "cell_type": "markdown",
   "id": "37796e1c",
   "metadata": {},
   "source": [
    "### Homework for Students\n",
    "- **Homework 1**: Perform an aggregation to get a count of courses per department.\n",
    "- **Homework 2**: Use `$match` and `$group` together to filter and get only courses with enrollments over 25 in 'Computer Science'.\n",
    "- **Homework 3**: Apply `$lookup` to join `courses` collection with `students` collection based on student enrollments.\n"
   ]
  }
 ],
 "metadata": {},
 "nbformat": 4,
 "nbformat_minor": 5
}
